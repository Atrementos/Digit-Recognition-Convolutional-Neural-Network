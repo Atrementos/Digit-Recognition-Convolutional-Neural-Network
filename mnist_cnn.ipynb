{
 "cells": [
  {
   "cell_type": "code",
   "execution_count": 34,
   "id": "0494a3c6-be53-428d-99fa-c2cee6b4fef6",
   "metadata": {},
   "outputs": [],
   "source": [
    "import numpy as np\n",
    "import matplotlib.pyplot as plt\n",
    "import pickle"
   ]
  },
  {
   "cell_type": "code",
   "execution_count": 35,
   "id": "2bd01709-5421-45bd-80a9-42fec85beb20",
   "metadata": {},
   "outputs": [],
   "source": [
    "rng = np.random.default_rng()"
   ]
  },
  {
   "cell_type": "code",
   "execution_count": 36,
   "id": "34426371-6d6e-4ff0-b01f-7a8aa2396066",
   "metadata": {},
   "outputs": [],
   "source": [
    "img_size = 28 # width/height of an image\n",
    "train_len = 60000\n",
    "test_len = 10000"
   ]
  },
  {
   "cell_type": "code",
   "execution_count": 37,
   "id": "a19a546f-7092-4a09-9c05-9d4c8c14c132",
   "metadata": {},
   "outputs": [],
   "source": [
    "def load_images():\n",
    "    f = open('train-images.idx3-ubyte', 'rb')\n",
    "    top = f.read(16) # skipping magic number and metadata\n",
    "    images_b = f.read(img_size * img_size * train_len)\n",
    "    f.close()\n",
    "    train_X_full = np.frombuffer(images_b, dtype=np.uint8)\n",
    "    train_X_full = train_X_full.reshape(train_len, img_size, img_size)\n",
    "    print(\"Full Train X shape: \", train_X_full.shape)\n",
    "\n",
    "    f = open('t10k-images.idx3-ubyte', 'rb')\n",
    "    top = f.read(16)\n",
    "    images_b = f.read(img_size * img_size * test_len)\n",
    "    f.close()\n",
    "    test_X = np.frombuffer(images_b, dtype=np.uint8)\n",
    "    test_X = test_X.reshape(test_len, img_size, img_size)\n",
    "    print(\"Test X shape: \", test_X.shape)\n",
    "\n",
    "    return (train_X_full, test_X)\n",
    "\n",
    "def load_labels():\n",
    "    f = open('train-labels.idx1-ubyte', 'rb')\n",
    "    top = f.read(8)\n",
    "    labels_b = f.read(train_len)\n",
    "    train_y_full = np.frombuffer(labels_b, dtype=np.uint8)\n",
    "    print(\"Full Train Y shape: \", train_y_full.shape)\n",
    "\n",
    "    f = open('t10k-labels.idx1-ubyte', 'rb')\n",
    "    top = f.read(8)\n",
    "    labels_b = f.read(test_len)\n",
    "    test_y = np.frombuffer(labels_b, dtype=np.uint8)\n",
    "    print(\"Test Y shape: \", test_y.shape)\n",
    "\n",
    "    return (train_y_full, test_y)\n",
    "\n",
    "def split_training(train_X_full, train_y_full, train_part=0.75):\n",
    "    stopat = int(np.floor(train_len * train_part))\n",
    "    train_X = train_X_full[:stopat, :, :]\n",
    "    train_y = train_y_full[:stopat]\n",
    "    val_X = train_X_full[stopat:, :, :]\n",
    "    val_y = train_y_full[stopat:]\n",
    "    return (train_X, train_y, val_X, val_y)\n",
    "\n",
    "def preprocess_images(train_X, val_X, test_X):\n",
    "    train_X = (train_X / 255) - 0.5\n",
    "    val_X = (val_X / 255) - 0.5\n",
    "    test_X = (test_X / 255) - 0.5\n",
    "    return (train_X, val_X, test_X)"
   ]
  },
  {
   "cell_type": "code",
   "execution_count": 38,
   "id": "59e4b469-d8b0-4d3d-8f24-6cb9bd3031ec",
   "metadata": {},
   "outputs": [],
   "source": [
    "class CNN:\n",
    "    def __init__(self):\n",
    "        self.layers = []\n",
    "\n",
    "    def addLayer(self, layer):\n",
    "        self.layers.append(layer)\n",
    "\n",
    "    def forward(self, X):\n",
    "        layer_data = X # initial data\n",
    "        for layer in self.layers:\n",
    "            layer_data = layer.forward(layer_data) # saving output of layer as input for next one\n",
    "        return layer_data\n",
    "\n",
    "    def backward(self, y):\n",
    "        error = y\n",
    "        for layer in reversed(self.layers):\n",
    "            error = layer.backward(error)\n",
    "        return error\n",
    "\n",
    "    def prepare_minibatches(self, X, y, size=32, shuffle=True):\n",
    "        if shuffle:\n",
    "            idx = np.arange(0, X.shape[0])\n",
    "            idx = np.random.permutation(idx)\n",
    "            X = X[idx, :]\n",
    "            y = y[idx]\n",
    "\n",
    "        batch_num = np.ceil(X.shape[0] / size)\n",
    "        \n",
    "        X_batches = np.array_split(X, batch_num)\n",
    "        y_batches = np.array_split(y, batch_num)\n",
    "\n",
    "        return (X_batches, y_batches)\n",
    "\n",
    "    def loss(self, X, y):\n",
    "        yhat = self.forward(X)\n",
    "        loss = np.mean(-np.log(np.clip(yhat[np.arange(yhat.shape[0]), y], 10e-10, 1))) # clipping ar 10e-10 at lower end because log0 is undefined\n",
    "        return loss\n",
    "\n",
    "    def fit(self, X, y, epochs=3, batch_size=32, val_X=None, val_y=None):\n",
    "        train_losses = []\n",
    "        val_losses = []\n",
    "        for i in range(epochs):\n",
    "            X_batches, y_batches = self.prepare_minibatches(X, y, batch_size) # arrays with shuffled X and y split into batches of given size\n",
    "            for X_mini, y_mini in zip(X_batches, y_batches):\n",
    "                result = self.forward(X_mini)\n",
    "                self.backward(y_mini)\n",
    "            train_losses.append(self.loss(X, y)) # keeping track of losses on each epoch\n",
    "            if val_X is not None and val_y is not None: # validation losses as well if present\n",
    "                val_losses.append(self.loss(val_X, val_y))\n",
    "                print(\"Epoch \", i + 1, \", Loss: \", train_losses[-1], \" Val loss: \", val_losses[-1])\n",
    "            else:\n",
    "                print(\"Epoch \", i + 1, \", Loss: \", train_losses[-1])\n",
    "        if val_X is not None and val_y is not None:\n",
    "            return (train_losses, val_losses)\n",
    "        return train_losses\n",
    "        \n",
    "    def predict(self, X):\n",
    "        probs = self.forward(X)\n",
    "        return probs"
   ]
  },
  {
   "cell_type": "code",
   "execution_count": 39,
   "id": "0297f0e8-049e-4e81-8173-43c4c03bcd68",
   "metadata": {},
   "outputs": [],
   "source": [
    "class ConvolutionLayer:\n",
    "    def __init__(self, input_shape, filt_num, filt_size, eta=0.001, beta1=0.9, beta2=0.999, decay_step=1000):\n",
    "        self.filt_num = filt_num\n",
    "        self.filt_size = filt_size\n",
    "        weights_std = np.sqrt(2 / np.prod(input_shape))\n",
    "        self.weights = rng.normal(scale=weights_std, size=(filt_size, filt_size, filt_num))\n",
    "        self.biases = np.zeros((filt_num))\n",
    "        self.i_size = input_shape[0] - self.filt_size + 1\n",
    "        self.j_size = input_shape[1] - self.filt_size + 1\n",
    "        self.t = 0 # time step measures for Adam optimizer and to decay learning rate\n",
    "        self.eta = eta\n",
    "        self.lr = eta\n",
    "        self.decay_step = decay_step # Amount of time steps required to decay learning rate once\n",
    "        self.m_f = 0\n",
    "        self.m_b = 0\n",
    "        self.v_f = 0\n",
    "        self.v_b = 0\n",
    "        self.beta1 = beta1\n",
    "        self.beta2 = beta2\n",
    "\n",
    "    def forward(self, X):\n",
    "        self.input = X # shape (N, 28, 28)\n",
    "        self.batch_size = X.shape[0]\n",
    "        output = np.zeros((self.batch_size, self.i_size, self.j_size, self.filt_num))\n",
    "        for i in np.arange(self.i_size):\n",
    "            for j in np.arange(self.j_size):\n",
    "                    output[:, i, j, :] = np.sum(np.flip(X[:, i: i+self.filt_size, j: j+self.filt_size, np.newaxis], axis=(1,2)) * self.weights + self.biases, axis=(1,2))\n",
    "        return output # shape (N, 26, 26, 8)\n",
    "\n",
    "    def backward(self, error):\n",
    "        self.t += 1\n",
    "        \n",
    "        # input_error = np.zeros_like(self.input) # Not used because there are no layers before convolution layer\n",
    "        dj_df = np.zeros_like(self.weights) # derivative of loss w.r.t filter weights\n",
    "        dj_db = np.zeros_like(self.biases)\n",
    "        for i in np.arange(self.i_size):\n",
    "            for j in np.arange(self.j_size):\n",
    "                    dj_df += np.sum((np.flip(self.input[:, i: i+self.filt_size, j: j+self.filt_size, np.newaxis], axis=(1,2)) * error[:, i, j, :].reshape(-1, 1, 1, self.filt_num)), axis=(0,))\n",
    "                    dj_db += np.sum(error[:, i, j, :], axis=(0,))\n",
    "                    # input_error[:, i:i + self.filt_size, j:j + self.filt_size] += np.flip(self.weights[np.newaxis, :, :, k]) * error[:, i, j, k, np.newaxis, np.newaxis]\n",
    "\n",
    "        if self.t % self.decay_step == 0:\n",
    "            self.lr = max(self.eta * (0.5 ** (self.t // self.decay_step)), self.eta * 1e-3) # some minimum learning rate which is eta / 1e-3 to prevent getting too small\n",
    "\n",
    "        self.m_f = (1 - self.beta1) * dj_df + self.beta1 * self.m_f # moving averages for Adam\n",
    "        self.m_b = (1 - self.beta1) * dj_db + self.beta1 * self.m_b\n",
    "        self.v_f = (1 - self.beta2) * np.square(dj_df) + self.beta2 * self.v_f # exponential moving averages for Adam\n",
    "        self.v_b = (1 - self.beta2) * np.square(dj_db) + self.beta2 * self.v_b\n",
    "\n",
    "        m_f_hat = self.m_f / (1 - self.beta1 ** self.t) # dealing with zero bias in the beginning\n",
    "        m_b_hat = self.m_b / (1 - self.beta1 ** self.t)\n",
    "        v_f_hat = self.v_f / (1 - self.beta2 ** self.t)\n",
    "        v_b_hat = self.v_b / (1 - self.beta2 ** self.t)\n",
    "        \n",
    "        self.weights -= self.lr * m_f_hat / (np.sqrt(v_f_hat) + 1e-8)\n",
    "        self.biases -= self.lr * m_b_hat / (np.sqrt(v_b_hat) + 1e-8)\n",
    "        \n",
    "        return 0 # did not calculate input error for resource optimization"
   ]
  },
  {
   "cell_type": "code",
   "execution_count": 40,
   "id": "3498d4ed-b812-4a22-afe7-fc3a67e9653c",
   "metadata": {},
   "outputs": [],
   "source": [
    "class ReluLayer:\n",
    "    def forward(self, X):\n",
    "        self.input = X # shape (N, 26, 26, 8)\n",
    "        self.output = np.maximum(np.zeros_like(X), X)\n",
    "        return self.output # shape (N, 26, 26, 8)\n",
    "\n",
    "    def backward(self, error):\n",
    "        input_error = error * (self.input > 0).astype(float)\n",
    "        return input_error # shape (N, 26, 26, 8)"
   ]
  },
  {
   "cell_type": "code",
   "execution_count": 41,
   "id": "26386f01-8260-4ff0-a9f1-d52a26bbe2fa",
   "metadata": {},
   "outputs": [],
   "source": [
    "class PoolingLayer:\n",
    "    def __init__(self, input_shape, filt_size, stride):\n",
    "        self.input_shape = input_shape\n",
    "        self.filt_size = filt_size\n",
    "        self.stride = stride\n",
    "        self.pooled_size = int((input_shape[0] - filt_size) / stride + 1)\n",
    "\n",
    "    def forward(self, X):\n",
    "        self.input = X # shape (N, 26, 26, 8)\n",
    "        output = np.zeros((X.shape[0], self.pooled_size, self.pooled_size, self.input_shape[-1]))\n",
    "        for i in np.arange(self.pooled_size):\n",
    "            for j in np.arange(self.pooled_size):\n",
    "                output[:, i, j, :] = np.amax(X[:, i*self.filt_size:i*self.filt_size+self.stride, j*self.filt_size:j*self.filt_size+self.stride, :], axis=(1, 2))\n",
    "        return output # shape (N, 13, 13, 8)\n",
    "\n",
    "    def backward(self, error): # Can be optimized to reduce python loops I think, but quite cumbersome\n",
    "        input_error = np.zeros_like(self.input)\n",
    "        for b in np.arange(self.input.shape[0]):\n",
    "            for i in np.arange(self.pooled_size):\n",
    "                for j in np.arange(self.pooled_size):\n",
    "                    for k in np.arange(self.input_shape[-1]):\n",
    "                        max_idx_flat = np.argmax(self.input[b, i*self.filt_size:i*self.filt_size+self.stride, j*self.filt_size:j*self.filt_size+self.stride, k])\n",
    "                        max_idx = np.unravel_index(max_idx_flat, (self.stride, self.stride))\n",
    "                        input_error[b, i*self.filt_size+max_idx[0], j*self.filt_size+max_idx[1], k] = error[b, i, j, k]\n",
    "        return input_error # shape (N, 26, 26, 8)"
   ]
  },
  {
   "cell_type": "code",
   "execution_count": 42,
   "id": "6fa72f94-f4ff-4c80-b15d-13122c79b61b",
   "metadata": {},
   "outputs": [],
   "source": [
    "class FlattenLayer:\n",
    "    def __init__(self, input_shape):\n",
    "        self.input_shape = input_shape\n",
    "\n",
    "    def forward(self, X):\n",
    "        return X.reshape(-1, np.prod(self.input_shape)) # shape (N, 1352)\n",
    "\n",
    "    def backward(self, error):\n",
    "        return error.reshape((-1,) + self.input_shape) # concat -1 to the beginning because of mini-batch mode\n",
    "        # shape (Nx13x13x8)"
   ]
  },
  {
   "cell_type": "code",
   "execution_count": 43,
   "id": "45d3f696-8f71-40d7-82aa-fda5571ff7ee",
   "metadata": {},
   "outputs": [],
   "source": [
    "class DenseLayer:\n",
    "    def __init__(self, input_num, units, eta=0.001, beta1=0.9, beta2=0.999, decay_step=1000):\n",
    "        self.input_shape = input_num # Expects 1D input (flatten layer used)\n",
    "        weights_std = np.sqrt(2 / self.input_shape)\n",
    "        self.weights = rng.normal(scale=weights_std, size=(self.input_shape, units)) # shape (1352, 10)\n",
    "        self.biases = np.zeros((1, units))\n",
    "        self.t = 0\n",
    "        self.eta = eta\n",
    "        self.lr = eta\n",
    "        self.decay_step = decay_step\n",
    "        self.m_w = 0\n",
    "        self.m_b = 0\n",
    "        self.v_w = 0\n",
    "        self.v_b = 0\n",
    "        self.beta1 = beta1\n",
    "        self.beta2 = beta2\n",
    "\n",
    "    def forward(self, X):\n",
    "        self.input = X\n",
    "        output = np.dot(X, self.weights) + self.biases\n",
    "        return output\n",
    "\n",
    "    def backward(self, error):\n",
    "        self.t += 1\n",
    "        \n",
    "        input_error = np.dot(error, self.weights.T)\n",
    "        dj_dw = np.dot(self.input.T, error)\n",
    "        dj_db = np.sum(error, axis=0, keepdims=True)\n",
    "\n",
    "        if self.t % self.decay_step == 0:\n",
    "            self.lr = max(self.eta * (0.5 ** (self.t // self.decay_step)), self.eta * 1e-3)\n",
    "        \n",
    "        self.m_w = (1 - self.beta1) * dj_dw + self.beta1 * self.m_w\n",
    "        self.m_b = (1 - self.beta1) * dj_db + self.beta1 * self.m_b\n",
    "        self.v_w = (1 - self.beta2) * np.square(dj_dw) + self.beta2 * self.v_w\n",
    "        self.v_b = (1 - self.beta2) * np.square(dj_db) + self.beta2 * self.v_b\n",
    "\n",
    "        m_w_hat = self.m_w / (1 - self.beta1 ** self.t)\n",
    "        m_b_hat = self.m_b / (1 - self.beta1 ** self.t)\n",
    "        v_w_hat = self.v_w / (1 - self.beta2 ** self.t)\n",
    "        v_b_hat = self.v_b / (1 - self.beta2 ** self.t)\n",
    "        \n",
    "        self.weights -= self.lr * m_w_hat / (np.sqrt(v_w_hat) + 1e-8)\n",
    "        self.biases -= self.lr * m_b_hat / (np.sqrt(v_b_hat) + 1e-8)\n",
    "        return input_error # shape (Nx1352)"
   ]
  },
  {
   "cell_type": "code",
   "execution_count": 44,
   "id": "a85e5ee0-aeb9-4041-ab62-32d879d18e10",
   "metadata": {},
   "outputs": [],
   "source": [
    "class SoftmaxLayer:\n",
    "    def forward(self, X):\n",
    "        self.batch_size = int(X.shape[0])\n",
    "        self.input = X # shape (N, 10)\n",
    "        shifted_X = X - np.max(X, axis=1, keepdims=True)\n",
    "        exp_x = np.exp(shifted_X)\n",
    "        self.output = exp_x / np.sum(exp_x, axis=1, keepdims=True)\n",
    "        return self.output # shape (N, 10)\n",
    "\n",
    "    def backward(self, y): # y is a scalar\n",
    "        y_onehot = np.zeros((self.batch_size, 10))\n",
    "        y_onehot[np.arange(self.batch_size), y] = 1\n",
    "        error = (self.output - y_onehot) / self.batch_size # normalized for batch size\n",
    "        return error # shape (Nx10)"
   ]
  },
  {
   "cell_type": "code",
   "execution_count": 45,
   "id": "4f0b6fa1-4571-44f0-975a-f03c80456c04",
   "metadata": {},
   "outputs": [
    {
     "name": "stdout",
     "output_type": "stream",
     "text": [
      "Full Train X shape:  (60000, 28, 28)\n",
      "Test X shape:  (10000, 28, 28)\n",
      "Full Train Y shape:  (60000,)\n",
      "Test Y shape:  (10000,)\n",
      "train_X shape:  (45000, 28, 28)\n",
      "train_y shape:  (45000,)\n",
      "val_X shape:  (15000, 28, 28)\n",
      "val_y shape:  (15000,)\n"
     ]
    }
   ],
   "source": [
    "train_X_full, test_X = load_images()\n",
    "train_y_full, test_y = load_labels()\n",
    "\n",
    "train_X, train_y, val_X, val_y = split_training(train_X_full, train_y_full)\n",
    "train_X, val_X, test_X = preprocess_images(train_X, val_X, test_X)\n",
    "\n",
    "print(\"train_X shape: \", train_X.shape)\n",
    "print(\"train_y shape: \", train_y.shape)\n",
    "print(\"val_X shape: \", val_X.shape)\n",
    "print(\"val_y shape: \", val_y.shape)"
   ]
  },
  {
   "cell_type": "code",
   "execution_count": 46,
   "id": "5adfcd82-8fd0-4581-8111-730e98e1ade3",
   "metadata": {},
   "outputs": [
    {
     "name": "stdout",
     "output_type": "stream",
     "text": [
      "3000\n",
      "1200\n",
      "1200\n"
     ]
    }
   ],
   "source": [
    "# Shrink dataset to accelerate training\n",
    "train_idx = np.array([], dtype='int32')\n",
    "val_idx = np.array([], dtype='int32')\n",
    "test_idx = np.array([], dtype='int32')\n",
    "for i in range(10):\n",
    "    idx = np.nonzero(train_y == i)[0].astype(int)\n",
    "    train_idx = np.append(train_idx, np.random.permutation(idx[:300]))\n",
    "    idx = np.nonzero(val_y == i)[0].astype(int)\n",
    "    val_idx = np.append(val_idx, np.random.permutation(idx[:120]))\n",
    "    idx = np.nonzero(test_y == i)[0].astype(int)\n",
    "    test_idx = np.append(test_idx, np.random.permutation(idx[:120]))\n",
    "print(len(train_idx))\n",
    "print(len(val_idx))\n",
    "print(len(test_idx))"
   ]
  },
  {
   "cell_type": "code",
   "execution_count": 14,
   "id": "853de59c-6ded-4611-8077-2454d8968cf9",
   "metadata": {},
   "outputs": [
    {
     "name": "stdout",
     "output_type": "stream",
     "text": [
      "Epoch  1 , Loss:  0.3610162025849472  Val loss:  0.44630218834931557\n",
      "Epoch  2 , Loss:  0.2651127506568085  Val loss:  0.3741532825368045\n",
      "Epoch  3 , Loss:  0.24261084213205103  Val loss:  0.3890198161447052\n",
      "Epoch  4 , Loss:  0.14480297579447382  Val loss:  0.31962506063331136\n",
      "Epoch  5 , Loss:  0.11151086910389828  Val loss:  0.3123056078293062\n",
      "Epoch  6 , Loss:  0.07926209277462114  Val loss:  0.301548456715962\n",
      "Epoch  7 , Loss:  0.05729662789627982  Val loss:  0.30822449954989994\n",
      "Epoch  8 , Loss:  0.03845730995696103  Val loss:  0.2879301273179661\n",
      "Epoch  9 , Loss:  0.04197804189811896  Val loss:  0.34361114266783127\n",
      "Epoch  10 , Loss:  0.030255494515187276  Val loss:  0.32369469321254046\n"
     ]
    },
    {
     "data": {
      "text/plain": [
       "([0.3610162025849472,\n",
       "  0.2651127506568085,\n",
       "  0.24261084213205103,\n",
       "  0.14480297579447382,\n",
       "  0.11151086910389828,\n",
       "  0.07926209277462114,\n",
       "  0.05729662789627982,\n",
       "  0.03845730995696103,\n",
       "  0.04197804189811896,\n",
       "  0.030255494515187276],\n",
       " [0.44630218834931557,\n",
       "  0.3741532825368045,\n",
       "  0.3890198161447052,\n",
       "  0.31962506063331136,\n",
       "  0.3123056078293062,\n",
       "  0.301548456715962,\n",
       "  0.30822449954989994,\n",
       "  0.2879301273179661,\n",
       "  0.34361114266783127,\n",
       "  0.32369469321254046])"
      ]
     },
     "execution_count": 14,
     "metadata": {},
     "output_type": "execute_result"
    }
   ],
   "source": [
    "model = CNN() # small model\n",
    "model.addLayer(ConvolutionLayer(input_shape=(28, 28), filt_num=8, filt_size=3, eta=0.005))\n",
    "model.addLayer(ReluLayer())\n",
    "model.addLayer(PoolingLayer(input_shape=(26,26,8), filt_size=2, stride=2))\n",
    "model.addLayer(FlattenLayer(input_shape=(13,13,8)))\n",
    "model.addLayer(DenseLayer(input_num=1352, units=10, eta=0.005))\n",
    "model.addLayer(SoftmaxLayer())\n",
    "model.fit(train_X[train_idx], train_y[train_idx], epochs=10, batch_size=32, val_X=val_X[val_idx], val_y=val_y[val_idx])"
   ]
  },
  {
   "cell_type": "code",
   "execution_count": null,
   "id": "3a9082fb-e5d2-46d1-911d-1806dccb1d54",
   "metadata": {},
   "outputs": [],
   "source": [
    "with open('model_mini.pickle', 'wb') as model_mini_file: \n",
    "    pickle.dump(model, model_mini_file) # saving small trained model"
   ]
  },
  {
   "cell_type": "code",
   "execution_count": 18,
   "id": "f64fa8e5-e504-4f64-9693-f413171f2e62",
   "metadata": {},
   "outputs": [
    {
     "name": "stdout",
     "output_type": "stream",
     "text": [
      "Epoch  1 , Loss:  0.12936262755110506  Val loss:  0.1397207327517369\n",
      "Epoch  2 , Loss:  0.08500557215326363  Val loss:  0.10434281115388583\n",
      "Epoch  3 , Loss:  0.07247527015831375  Val loss:  0.09496969402630304\n",
      "Epoch  4 , Loss:  0.06875881944612612  Val loss:  0.09196576147477663\n",
      "Epoch  5 , Loss:  0.06741634928036695  Val loss:  0.09139068065307286\n",
      "Epoch  6 , Loss:  0.06685945424986102  Val loss:  0.09082025775047287\n",
      "Epoch  7 , Loss:  0.06668188082891463  Val loss:  0.09069433854669562\n",
      "Epoch  8 , Loss:  0.06661344621357426  Val loss:  0.09064530625868177\n",
      "Epoch  9 , Loss:  0.06654996492914173  Val loss:  0.09060615601527688\n",
      "Epoch  10 , Loss:  0.06648764159023128  Val loss:  0.09057270358151241\n"
     ]
    },
    {
     "data": {
      "text/plain": [
       "([0.12936262755110506,\n",
       "  0.08500557215326363,\n",
       "  0.07247527015831375,\n",
       "  0.06875881944612612,\n",
       "  0.06741634928036695,\n",
       "  0.06685945424986102,\n",
       "  0.06668188082891463,\n",
       "  0.06661344621357426,\n",
       "  0.06654996492914173,\n",
       "  0.06648764159023128],\n",
       " [0.1397207327517369,\n",
       "  0.10434281115388583,\n",
       "  0.09496969402630304,\n",
       "  0.09196576147477663,\n",
       "  0.09139068065307286,\n",
       "  0.09082025775047287,\n",
       "  0.09069433854669562,\n",
       "  0.09064530625868177,\n",
       "  0.09060615601527688,\n",
       "  0.09057270358151241])"
      ]
     },
     "execution_count": 18,
     "metadata": {},
     "output_type": "execute_result"
    }
   ],
   "source": [
    "model = CNN() # big model\n",
    "model.addLayer(ConvolutionLayer(input_shape=(28, 28), filt_num=8, filt_size=3, eta=0.005))\n",
    "model.addLayer(ReluLayer())\n",
    "model.addLayer(PoolingLayer(input_shape=(26,26,8), filt_size=2, stride=2))\n",
    "model.addLayer(FlattenLayer(input_shape=(13,13,8)))\n",
    "model.addLayer(DenseLayer(input_num=1352, units=10, eta=0.005))\n",
    "model.addLayer(SoftmaxLayer())\n",
    "model.fit(train_X, train_y, epochs=10, batch_size=32, val_X=val_X, val_y=val_y) # should have included full training data\n",
    "# but it takes too long, >1 hr"
   ]
  },
  {
   "cell_type": "code",
   "execution_count": 54,
   "id": "7121a9dd-d97d-47f7-a1c3-0ecb8e111d41",
   "metadata": {},
   "outputs": [
    {
     "name": "stdout",
     "output_type": "stream",
     "text": [
      "Test accuracy:  97.61\n",
      "Test loss:  0.07724303549404923\n"
     ]
    }
   ],
   "source": [
    "preds_distribution = model.predict(test_X)\n",
    "preds = np.argmax(preds_distribution, axis=1)\n",
    "print(\"Test accuracy: \", np.mean(preds == test_y) * 100)\n",
    "print(\"Test loss: \", model.loss(test_X, test_y))"
   ]
  },
  {
   "cell_type": "code",
   "execution_count": 20,
   "id": "7e4e1520-313f-49ce-9d4c-2e354bdf9f4c",
   "metadata": {},
   "outputs": [],
   "source": [
    "with open('model.pickle', 'wb') as model_file:\n",
    "    pickle.dump(model, model_file) # saving big trained model"
   ]
  },
  {
   "cell_type": "code",
   "execution_count": 51,
   "id": "58b68ec9-bb09-4825-8cbb-cc2845d02973",
   "metadata": {},
   "outputs": [],
   "source": [
    "with open('model.pickle', 'rb') as model_file:\n",
    "    model = pickle.load(model_file) # can load pretrained model"
   ]
  },
  {
   "cell_type": "code",
   "execution_count": 55,
   "id": "7a0bed9c-dad1-4e47-bd51-d35cc95847eb",
   "metadata": {},
   "outputs": [],
   "source": [
    "confusion_matrix = np.zeros((10, 10)).astype(int)\n",
    "for pred, actual in zip(preds, test_y):\n",
    "    confusion_matrix[pred, actual] += 1"
   ]
  },
  {
   "cell_type": "code",
   "execution_count": 56,
   "id": "87115417-18e0-4ced-82b0-130ae6c5e410",
   "metadata": {},
   "outputs": [],
   "source": [
    "def plot_confusion_matrix(cm):\n",
    "    labels = [str(i) for i in range(cm.shape[0])]\n",
    "    \n",
    "    fig, ax = plt.subplots(figsize=(10, 8))\n",
    "    im = ax.imshow(cm)\n",
    "    ax.figure.colorbar(im, ax=ax)\n",
    "    \n",
    "    ax.set(xticks=np.arange(cm.shape[1]),\n",
    "           yticks=np.arange(cm.shape[0]),\n",
    "           xticklabels=labels, yticklabels=labels,\n",
    "           ylabel='Actual',\n",
    "           xlabel='Predicted')\n",
    "\n",
    "    thresh = cm.max() / 2.\n",
    "    for i in range(cm.shape[0]):\n",
    "        for j in range(cm.shape[1]):\n",
    "            ax.text(j, i, format(cm[i, j], 'd'),\n",
    "                    ha=\"center\", va=\"center\",\n",
    "                    color=\"black\" if cm[i, j] > thresh else \"white\")\n",
    "\n",
    "    return ax"
   ]
  },
  {
   "cell_type": "code",
   "execution_count": 57,
   "id": "df250042-ab5b-4e07-8840-6353e5bfcaec",
   "metadata": {},
   "outputs": [
    {
     "data": {
      "image/png": "[encoded data removed]",
      "text/plain": [
       "<Figure size 1000x800 with 2 Axes>"
      ]
     },
     "metadata": {},
     "output_type": "display_data"
    }
   ],
   "source": [
    "plot_confusion_matrix(confusion_matrix)\n",
    "plt.show()"
   ]
  },
  {
   "cell_type": "code",
   "execution_count": 59,
   "id": "d92aa3bd-cfb5-490c-af56-06fec5cc2274",
   "metadata": {},
   "outputs": [],
   "source": [
    "def matrix_to_images(X, y): # digits visualization\n",
    "    print(X.shape)\n",
    "    print(y.shape)\n",
    "    images = X.reshape((-1, img_size, img_size))\n",
    "    img_num = len(images)\n",
    "    columns = min(5, img_num)\n",
    "    rows = int(np.ceil(img_num / columns))\n",
    "    fig = plt.figure(figsize=(4 * columns, 4 * rows))\n",
    "    \n",
    "    for i in np.arange(len(images)):\n",
    "        fig.add_subplot(rows, columns, i + 1)\n",
    "        plt.imshow(images[i], cmap='gray', vmin=0, vmax=255)\n",
    "        plt.axis('off')\n",
    "        plt.title(f\"Image {i + 1}, Label: {y[i]}\")"
   ]
  },
  {
   "cell_type": "code",
   "execution_count": 71,
   "id": "9d0dd4c8-2768-4788-8455-554f44a16b11",
   "metadata": {},
   "outputs": [
    {
     "name": "stdout",
     "output_type": "stream",
     "text": [
      "[19815, 53459, 44154]\n"
     ]
    }
   ],
   "source": [
    "sample_2 = np.random.choice(np.nonzero(train_y_full == 2)[0], size=1) # some random samples for saliency via occlusion\n",
    "sample_4 = np.random.choice(np.nonzero(train_y_full == 4)[0], size=1)\n",
    "sample_9 = np.random.choice(np.nonzero(train_y_full == 9)[0], size=1)\n",
    "samples = [sample_2[0], sample_4[0], sample_9[0]]\n",
    "print(samples)"
   ]
  },
  {
   "cell_type": "code",
   "execution_count": 72,
   "id": "659af46a-7697-46d5-b45b-b353d7970974",
   "metadata": {},
   "outputs": [],
   "source": [
    "saliency_maps = np.zeros((3, 26, 26))\n",
    "\n",
    "for b in range(3):\n",
    "    for i in range(26):\n",
    "        for j in range(26):\n",
    "            X_modified = train_X_full[samples[b]].copy()\n",
    "            X_modified[i: i + 3, j : j + 3] = np.zeros((3, 3)) # placing a black patch on some area of image \n",
    "            saliency_maps[b, i, j] = np.argmax(model.predict(X_modified.reshape(-1, 28, 28))) # predicting with a patch"
   ]
  },
  {
   "cell_type": "code",
   "execution_count": 73,
   "id": "b215469a-8a77-466f-b504-ac9c68fdbcb6",
   "metadata": {},
   "outputs": [
    {
     "name": "stdout",
     "output_type": "stream",
     "text": [
      "(3, 28, 28)\n",
      "(3,)\n"
     ]
    },
    {
     "data": {
      "text/plain": [
       "<matplotlib.colorbar.Colorbar at 0x2375dd1a3d0>"
      ]
     },
     "execution_count": 73,
     "metadata": {},
     "output_type": "execute_result"
    },
    {
     "data": {
      "image/png": "[encoded data removed]",
      "text/plain": [
       "<Figure size 1200x400 with 3 Axes>"
      ]
     },
     "metadata": {},
     "output_type": "display_data"
    },
    {
     "data": {
      "image/png": "[encoded data removed]",
      "text/plain": [
       "<Figure size 1300x400 with 4 Axes>"
      ]
     },
     "metadata": {},
     "output_type": "display_data"
    }
   ],
   "source": [
    "matrix_to_images(train_X_full[samples], train_y_full[samples])\n",
    "\n",
    "fig = plt.figure(figsize=(4 * 3 + 1, 4 * 1)) # saliency via occlusion visualization\n",
    "\n",
    "gs = plt.GridSpec(1, 4, width_ratios=[1, 1, 1, 0.1], figure=fig)\n",
    "plt.tight_layout()\n",
    "\n",
    "for i in np.arange(3):\n",
    "    ax = fig.add_subplot(gs[0, i])\n",
    "    im = ax.imshow(saliency_maps[i], cmap='tab10', vmin=0, vmax=9)\n",
    "    ax.axis('off')\n",
    "    ax.set_title(f\"True Label: {train_y_full[samples[i]]}\")\n",
    "\n",
    "cax = fig.add_subplot(gs[0, 3])\n",
    "nums = np.arange(10)\n",
    "plt.colorbar(im, cax=cax, ticks=nums)"
   ]
  },
  {
   "cell_type": "code",
   "execution_count": null,
   "id": "4d04422c-c0c6-4916-8818-7a15052e0c75",
   "metadata": {},
   "outputs": [],
   "source": []
  }
 ],
 "metadata": {
  "kernelspec": {
   "display_name": "Python 3 (ipykernel)",
   "language": "python",
   "name": "python3"
  },
  "language_info": {
   "codemirror_mode": {
    "name": "ipython",
    "version": 3
   },
   "file_extension": ".py",
   "mimetype": "text/x-python",
   "name": "python",
   "nbconvert_exporter": "python",
   "pygments_lexer": "ipython3",
   "version": "3.9.19"
  }
 },
 "nbformat": 4,
 "nbformat_minor": 5
}
